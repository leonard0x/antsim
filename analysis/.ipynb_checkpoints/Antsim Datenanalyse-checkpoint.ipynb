{
 "metadata": {
  "name": ""
 },
 "nbformat": 3,
 "nbformat_minor": 0,
 "worksheets": [
  {
   "cells": [
    {
     "cell_type": "code",
     "collapsed": false,
     "input": [
      "import numpy as np\n",
      "import sys\n",
      "sys.path.append(\"/homes/mathphys/puhl/scratch/antsim\")\n",
      "import scipy.signal\n",
      "import matplotlib.pyplot as plt\n",
      "%matplotlib inline\n",
      "\n",
      "from Storage import Storage\n",
      "\n",
      "file_name = \"../noise.hdf5\"\n",
      "\n",
      "sto = Storage(file_name, buffer_size = 1000)\n",
      "\n",
      "step = sto.keyval_get(\"record_step\")\n",
      "n = int( sto.keyval_get(\"frame_count\") / step)\n",
      "delta = sto.keyval_get(\"world_delta_time\")\n",
      "\n",
      "avg = np.zeros(n)\n",
      "\n",
      "for i in range(n - 1):\n",
      "    avg[i] = np.average(sto.get(\"ant\", i)[2,:,:])\n",
      "    \n",
      "plt.xlabel('Time in minutes')\n",
      "plt.ylabel('Average Speed in mm/s')\n",
      "    \n",
      "x = np.arange(0, n * step * delta / 60, delta * step / 60)\n",
      "\n",
      "y_smooth = scipy.signal.savgol_filter(avg, n - 1, 3)\n",
      "y = scipy.signal.savgol_filter(avg, 21, 3)\n",
      "plt.plot(x, y, color='red')\n",
      "plt.plot(x, y_smooth)\n",
      "plt.show()"
     ],
     "language": "python",
     "metadata": {},
     "outputs": [
      {
       "ename": "KeyError",
       "evalue": "\"Can't open attribute (Can't locate attribute: 'length')\"",
       "output_type": "pyerr",
       "traceback": [
        "\u001b[1;31m---------------------------------------------------------------------------\u001b[0m\n\u001b[1;31mKeyError\u001b[0m                                  Traceback (most recent call last)",
        "\u001b[1;32m<ipython-input-1-66f828f87f44>\u001b[0m in \u001b[0;36m<module>\u001b[1;34m()\u001b[0m\n\u001b[0;32m     10\u001b[0m \u001b[0mfile_name\u001b[0m \u001b[1;33m=\u001b[0m \u001b[1;34m\"../noise.hdf5\"\u001b[0m\u001b[1;33m\u001b[0m\u001b[0m\n\u001b[0;32m     11\u001b[0m \u001b[1;33m\u001b[0m\u001b[0m\n\u001b[1;32m---> 12\u001b[1;33m \u001b[0msto\u001b[0m \u001b[1;33m=\u001b[0m \u001b[0mStorage\u001b[0m\u001b[1;33m(\u001b[0m\u001b[0mfile_name\u001b[0m\u001b[1;33m,\u001b[0m \u001b[0mbuffer_size\u001b[0m \u001b[1;33m=\u001b[0m \u001b[1;36m1000\u001b[0m\u001b[1;33m)\u001b[0m\u001b[1;33m\u001b[0m\u001b[0m\n\u001b[0m\u001b[0;32m     13\u001b[0m \u001b[1;33m\u001b[0m\u001b[0m\n\u001b[0;32m     14\u001b[0m \u001b[0mstep\u001b[0m \u001b[1;33m=\u001b[0m \u001b[0msto\u001b[0m\u001b[1;33m.\u001b[0m\u001b[0mkeyval_get\u001b[0m\u001b[1;33m(\u001b[0m\u001b[1;34m\"record_step\"\u001b[0m\u001b[1;33m)\u001b[0m\u001b[1;33m\u001b[0m\u001b[0m\n",
        "\u001b[1;32m/homes/mathphys/puhl/scratch/antsim/Storage.pyc\u001b[0m in \u001b[0;36m__init__\u001b[1;34m(self, file_name, groups, shapes, dtypes, buffer_size, compression)\u001b[0m\n\u001b[0;32m     33\u001b[0m             \u001b[1;32mprint\u001b[0m\u001b[1;33m(\u001b[0m\u001b[1;34m\"Storage: recalling \"\u001b[0m \u001b[1;33m+\u001b[0m \u001b[0mfile_name\u001b[0m\u001b[1;33m)\u001b[0m\u001b[1;33m\u001b[0m\u001b[0m\n\u001b[0;32m     34\u001b[0m \u001b[1;33m\u001b[0m\u001b[0m\n\u001b[1;32m---> 35\u001b[1;33m             \u001b[0mself\u001b[0m\u001b[1;33m.\u001b[0m\u001b[0mlength\u001b[0m \u001b[1;33m=\u001b[0m \u001b[0mself\u001b[0m\u001b[1;33m.\u001b[0m\u001b[0mfile\u001b[0m\u001b[1;33m[\u001b[0m\u001b[1;34m\"buffer\"\u001b[0m\u001b[1;33m]\u001b[0m\u001b[1;33m.\u001b[0m\u001b[0mattrs\u001b[0m\u001b[1;33m[\u001b[0m\u001b[1;34m\"length\"\u001b[0m\u001b[1;33m]\u001b[0m\u001b[1;33m\u001b[0m\u001b[0m\n\u001b[0m\u001b[0;32m     36\u001b[0m \u001b[1;33m\u001b[0m\u001b[0m\n\u001b[0;32m     37\u001b[0m             \u001b[0mself\u001b[0m\u001b[1;33m.\u001b[0m\u001b[0mgroups\u001b[0m \u001b[1;33m=\u001b[0m \u001b[0mself\u001b[0m\u001b[1;33m.\u001b[0m\u001b[0mfile\u001b[0m\u001b[1;33m[\u001b[0m\u001b[1;34m\"buffer\"\u001b[0m\u001b[1;33m]\u001b[0m\u001b[1;33m.\u001b[0m\u001b[0mattrs\u001b[0m\u001b[1;33m[\u001b[0m\u001b[1;34m\"groups\"\u001b[0m\u001b[1;33m]\u001b[0m\u001b[1;33m\u001b[0m\u001b[0m\n",
        "\u001b[1;32m/homes/mathphys/puhl/.local/lib/python2.7/site-packages/h5py/_objects.so\u001b[0m in \u001b[0;36mh5py._objects.with_phil.wrapper (/tmp/pip_build_puhl/h5py/h5py/_objects.c:2453)\u001b[1;34m()\u001b[0m\n",
        "\u001b[1;32m/homes/mathphys/puhl/.local/lib/python2.7/site-packages/h5py/_objects.so\u001b[0m in \u001b[0;36mh5py._objects.with_phil.wrapper (/tmp/pip_build_puhl/h5py/h5py/_objects.c:2410)\u001b[1;34m()\u001b[0m\n",
        "\u001b[1;32m/homes/mathphys/puhl/.local/lib/python2.7/site-packages/h5py/_hl/attrs.pyc\u001b[0m in \u001b[0;36m__getitem__\u001b[1;34m(self, name)\u001b[0m\n\u001b[0;32m     50\u001b[0m         \"\"\" Read the value of an attribute.\n\u001b[0;32m     51\u001b[0m         \"\"\"\n\u001b[1;32m---> 52\u001b[1;33m         \u001b[0mattr\u001b[0m \u001b[1;33m=\u001b[0m \u001b[0mh5a\u001b[0m\u001b[1;33m.\u001b[0m\u001b[0mopen\u001b[0m\u001b[1;33m(\u001b[0m\u001b[0mself\u001b[0m\u001b[1;33m.\u001b[0m\u001b[0m_id\u001b[0m\u001b[1;33m,\u001b[0m \u001b[0mself\u001b[0m\u001b[1;33m.\u001b[0m\u001b[0m_e\u001b[0m\u001b[1;33m(\u001b[0m\u001b[0mname\u001b[0m\u001b[1;33m)\u001b[0m\u001b[1;33m)\u001b[0m\u001b[1;33m\u001b[0m\u001b[0m\n\u001b[0m\u001b[0;32m     53\u001b[0m \u001b[1;33m\u001b[0m\u001b[0m\n\u001b[0;32m     54\u001b[0m         \u001b[1;32mif\u001b[0m \u001b[0mattr\u001b[0m\u001b[1;33m.\u001b[0m\u001b[0mget_space\u001b[0m\u001b[1;33m(\u001b[0m\u001b[1;33m)\u001b[0m\u001b[1;33m.\u001b[0m\u001b[0mget_simple_extent_type\u001b[0m\u001b[1;33m(\u001b[0m\u001b[1;33m)\u001b[0m \u001b[1;33m==\u001b[0m \u001b[0mh5s\u001b[0m\u001b[1;33m.\u001b[0m\u001b[0mNULL\u001b[0m\u001b[1;33m:\u001b[0m\u001b[1;33m\u001b[0m\u001b[0m\n",
        "\u001b[1;32m/homes/mathphys/puhl/.local/lib/python2.7/site-packages/h5py/_objects.so\u001b[0m in \u001b[0;36mh5py._objects.with_phil.wrapper (/tmp/pip_build_puhl/h5py/h5py/_objects.c:2453)\u001b[1;34m()\u001b[0m\n",
        "\u001b[1;32m/homes/mathphys/puhl/.local/lib/python2.7/site-packages/h5py/_objects.so\u001b[0m in \u001b[0;36mh5py._objects.with_phil.wrapper (/tmp/pip_build_puhl/h5py/h5py/_objects.c:2410)\u001b[1;34m()\u001b[0m\n",
        "\u001b[1;32m/homes/mathphys/puhl/.local/lib/python2.7/site-packages/h5py/h5a.so\u001b[0m in \u001b[0;36mh5py.h5a.open (/tmp/pip_build_puhl/h5py/h5py/h5a.c:2057)\u001b[1;34m()\u001b[0m\n",
        "\u001b[1;31mKeyError\u001b[0m: \"Can't open attribute (Can't locate attribute: 'length')\""
       ]
      },
      {
       "output_type": "stream",
       "stream": "stdout",
       "text": [
        "Storage: recalling ../noise.hdf5\n"
       ]
      }
     ],
     "prompt_number": 1
    },
    {
     "cell_type": "code",
     "collapsed": false,
     "input": [
      "avg = np.zeros(n)\n",
      "\n",
      "plt.xlabel('Time in minutes')\n",
      "plt.ylabel('Average Density')\n",
      "\n",
      "for i in range(i - 1):\n",
      "    phero = sto.get(\"phero\", i)\n",
      "    \n",
      "    avg[i] = np.median(phero)\n",
      "\n",
      "plt.plot(x, avg)\n",
      "plt.show()  "
     ],
     "language": "python",
     "metadata": {},
     "outputs": []
    },
    {
     "cell_type": "code",
     "collapsed": false,
     "input": [],
     "language": "python",
     "metadata": {},
     "outputs": []
    }
   ],
   "metadata": {}
  }
 ]
}